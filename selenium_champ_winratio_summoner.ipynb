{
 "cells": [
  {
   "cell_type": "code",
   "execution_count": 12,
   "id": "9a08adca",
   "metadata": {},
   "outputs": [],
   "source": [
    "from selenium import webdriver\n",
    "from selenium.webdriver.common.keys import Keys\n",
    "from selenium.webdriver.chrome.options import Options\n",
    "from selenium.webdriver.edge.service import Service\n",
    "from parsel import Selector\n",
    "from selenium.webdriver.common.by import By\n",
    "from selenium.webdriver.support.ui import WebDriverWait\n",
    "from selenium.webdriver.support import expected_conditions as EC\n",
    "import pandas as pd"
   ]
  },
  {
   "cell_type": "code",
   "execution_count": 13,
   "id": "2f18a07b",
   "metadata": {},
   "outputs": [],
   "source": [
    "options = Options()\n",
    "options.add_argument(\"start-maximized\")\n",
    "options.headless = True\n",
    "s=Service('C:\\\\Users\\\\faron\\\\OneDrive\\\\Pulpit\\\\ml projekt\\\\chromedriver.exe')\n",
    "driver=webdriver.Chrome(service=s, options=options)"
   ]
  },
  {
   "cell_type": "code",
   "execution_count": 39,
   "id": "ad4989a6",
   "metadata": {},
   "outputs": [],
   "source": [
    "server = 'eun1'\n",
    "name = 'travcio1'\n",
    "champ = 'jhin'\n",
    "driver.get('https://u.gg/lol/profile/{}/{}/champion-stats/{}'.format(server, name, champ))"
   ]
  },
  {
   "cell_type": "code",
   "execution_count": 40,
   "id": "381150fc",
   "metadata": {},
   "outputs": [
    {
     "name": "stdout",
     "output_type": "stream",
     "text": [
      "55%\n"
     ]
    }
   ],
   "source": [
    "champion_winrate_summoner = driver.find_elements('xpath', ('//strong[@style=\"color: rgb(205, 220, 254);\"]'))\n",
    "try:\n",
    "    print(champion_winrate_summoner[0].text)\n",
    "except:\n",
    "    print(\"50%\") "
   ]
  },
  {
   "cell_type": "code",
   "execution_count": null,
   "id": "6045638a",
   "metadata": {},
   "outputs": [],
   "source": []
  },
  {
   "cell_type": "code",
   "execution_count": null,
   "id": "7e0c249a",
   "metadata": {},
   "outputs": [],
   "source": []
  }
 ],
 "metadata": {
  "kernelspec": {
   "display_name": "Python 3 (ipykernel)",
   "language": "python",
   "name": "python3"
  },
  "language_info": {
   "codemirror_mode": {
    "name": "ipython",
    "version": 3
   },
   "file_extension": ".py",
   "mimetype": "text/x-python",
   "name": "python",
   "nbconvert_exporter": "python",
   "pygments_lexer": "ipython3",
   "version": "3.9.7"
  }
 },
 "nbformat": 4,
 "nbformat_minor": 5
}
